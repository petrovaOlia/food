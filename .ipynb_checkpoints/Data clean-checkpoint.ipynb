{
 "cells": [
  {
   "cell_type": "code",
   "execution_count": 5,
   "metadata": {},
   "outputs": [],
   "source": [
    "import pandas as pd\n",
    "\n",
    "df = pd.read_csv('en.openfoodfacts.org.products.tsv', sep='\\t', low_memory=False)\n",
    "df.drop(['url',\n",
    "'creator',\n",
    "'created_t',\n",
    "'created_datetime',\n",
    "'last_modified_t',\n",
    "'last_modified_datetime',\n",
    "'generic_name',\n",
    "'packaging_tags',\n",
    "'brands_tags',\n",
    "'categories',\n",
    "'categories_tags',\n",
    "'categories_en',\n",
    "'origins_tags',\n",
    "'manufacturing_places_tags',\n",
    "'labels',\n",
    "'labels_tags',\n",
    "'labels_en',\n",
    "'emb_codes',\n",
    "'emb_codes_tags',\n",
    "'cities',\n",
    "'cities_tags',\n",
    "'purchase_places',\n",
    "'stores',\n",
    "'countries',\n",
    "'countries_tags',\n",
    "'countries_en',\n",
    "'ingredients_text',\n",
    "'allergens',\n",
    "'allergens_en',\n",
    "'traces',\n",
    "'traces_tags',\n",
    "'traces_en'], axis='columns').to_csv('food.csv')"
   ]
  }
 ],
 "metadata": {
  "kernelspec": {
   "display_name": "Python 3",
   "language": "python",
   "name": "python3"
  },
  "language_info": {
   "codemirror_mode": {
    "name": "ipython",
    "version": 3
   },
   "file_extension": ".py",
   "mimetype": "text/x-python",
   "name": "python",
   "nbconvert_exporter": "python",
   "pygments_lexer": "ipython3",
   "version": "3.6.5"
  }
 },
 "nbformat": 4,
 "nbformat_minor": 2
}
